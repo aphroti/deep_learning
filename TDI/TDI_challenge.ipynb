{
 "cells": [
  {
   "cell_type": "code",
   "execution_count": 114,
   "metadata": {},
   "outputs": [],
   "source": [
    "import numpy as np\n",
    "def beeWalk(T,I): # T: steps ; I: num of tests ; returns the expected distance and deviation\n",
    "    Dist = []\n",
    "    dist = 1\n",
    "    i = I\n",
    "    while i != 0:\n",
    "        i = i - 1\n",
    "        t = T - 1 # the first will always generate 1 distance, so we will test on the else T - 1 steps\n",
    "        while t != 0:\n",
    "            t = t - 1\n",
    "            dice = np.random.rand()\n",
    "            # for each iteration\n",
    "            if dice >= 0.5: # 3/6 options will increase distance by 1\n",
    "                dist = dist + 1\n",
    "            elif dice >=1/6: # 2/6 options will not change distance\n",
    "                dist = dist + 0\n",
    "            else: # 1/6 options will decrease distance by 1\n",
    "                dist = dist - 1\n",
    "        Dist.append(abs(dist))\n",
    "        dist = 1 # reset dist to 1 for next test\n",
    "    return (np.mean(Dist),np.std(Dist))"
   ]
  },
  {
   "cell_type": "code",
   "execution_count": 115,
   "metadata": {},
   "outputs": [
    {
     "name": "stdout",
     "output_type": "stream",
     "text": [
      "(6.0720999999999998, 2.7740046124691284)\n"
     ]
    }
   ],
   "source": [
    "print(beeWalk(16,10000))"
   ]
  },
  {
   "cell_type": "code",
   "execution_count": 116,
   "metadata": {},
   "outputs": [
    {
     "name": "stdout",
     "output_type": "stream",
     "text": [
      "(21.965299999999999, 5.9658273449706876)\n"
     ]
    }
   ],
   "source": [
    "print(beeWalk(64,10000))"
   ]
  },
  {
   "cell_type": "code",
   "execution_count": 132,
   "metadata": {
    "collapsed": true
   },
   "outputs": [],
   "source": [
    "import numpy as np\n",
    "def beeWalkPr(T,I,B,A): # T: steps ; I: num of tests ; B: at least some distance known ; A: target distance ; returns probability\n",
    "    count = 0\n",
    "    Dist = []\n",
    "    dist = 1\n",
    "    i = I\n",
    "    while i != 0:\n",
    "        i = i - 1\n",
    "        t = T - 1 # the first will always generate 1 distance, so we will test on the else T - 1 steps\n",
    "        while t != 0:\n",
    "            t = t - 1\n",
    "            dice = np.random.rand()\n",
    "            # for each iteration\n",
    "            if dice >= 0.5: # 3/6 options will increase distance by 1\n",
    "                dist = dist + 1\n",
    "            elif dice >=1/6: # 2/6 options will not change distance\n",
    "                dist = dist + 0\n",
    "            else: # 1/6 options will decrease distance by 1\n",
    "                dist = dist - 1\n",
    "        if dist >= B:\n",
    "            Dist.append(abs(dist))\n",
    "            if dist >= A:\n",
    "                count = count + 1\n",
    "        dist = 1 # reset dist to 1 for next test\n",
    "    pr = count/len(Dist)\n",
    "    return (pr)"
   ]
  },
  {
   "cell_type": "code",
   "execution_count": 133,
   "metadata": {},
   "outputs": [
    {
     "name": "stdout",
     "output_type": "stream",
     "text": [
      "0.5306620209059233\n"
     ]
    }
   ],
   "source": [
    "print(beeWalkPr(16,10000,6,8))"
   ]
  },
  {
   "cell_type": "code",
   "execution_count": 134,
   "metadata": {},
   "outputs": [
    {
     "name": "stdout",
     "output_type": "stream",
     "text": [
      "0.5967548076923077\n"
     ]
    }
   ],
   "source": [
    "print(beeWalkPr(64,10000,20,24))"
   ]
  },
  {
   "cell_type": "code",
   "execution_count": null,
   "metadata": {
    "collapsed": true
   },
   "outputs": [],
   "source": []
  }
 ],
 "metadata": {
  "kernelspec": {
   "display_name": "Python 3",
   "language": "python",
   "name": "python3"
  },
  "language_info": {
   "codemirror_mode": {
    "name": "ipython",
    "version": 3
   },
   "file_extension": ".py",
   "mimetype": "text/x-python",
   "name": "python",
   "nbconvert_exporter": "python",
   "pygments_lexer": "ipython3",
   "version": "3.6.3"
  }
 },
 "nbformat": 4,
 "nbformat_minor": 2
}
